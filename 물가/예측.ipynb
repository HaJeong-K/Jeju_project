{
  "nbformat": 4,
  "nbformat_minor": 0,
  "metadata": {
    "colab": {
      "provenance": [],
      "authorship_tag": "ABX9TyPPze0ceSUj89GWQt37Kt5c",
      "include_colab_link": true
    },
    "kernelspec": {
      "name": "python3",
      "display_name": "Python 3"
    },
    "language_info": {
      "name": "python"
    }
  },
  "cells": [
    {
      "cell_type": "markdown",
      "metadata": {
        "id": "view-in-github",
        "colab_type": "text"
      },
      "source": [
        "<a href=\"https://colab.research.google.com/github/HaJeong-K/Jeju_project/blob/main/%EC%98%88%EC%B8%A1.ipynb\" target=\"_parent\"><img src=\"https://colab.research.google.com/assets/colab-badge.svg\" alt=\"Open In Colab\"/></a>"
      ]
    },
    {
      "cell_type": "markdown",
      "source": [
        "## 회귀 분석을 이용한 예측 분석\n",
        "### 환율 부분 회귀 분석 및 예측\n"
      ],
      "metadata": {
        "id": "BEW-Trw9Sdz3"
      }
    },
    {
      "cell_type": "markdown",
      "source": [
        "### 환율과 비교한 전체 지출 비용의 월별 평균값 분포에 대한 회귀 분석을 이용한 예측 분석"
      ],
      "metadata": {
        "id": "hoLB-j3OVMsb"
      }
    },
    {
      "cell_type": "code",
      "source": [
        "!pip install numpy"
      ],
      "metadata": {
        "colab": {
          "base_uri": "https://localhost:8080/"
        },
        "id": "_QtI-M6rSlfM",
        "outputId": "03e8d6dc-0603-400a-ceed-fd5cac000cf1"
      },
      "execution_count": 1,
      "outputs": [
        {
          "output_type": "stream",
          "name": "stdout",
          "text": [
            "Requirement already satisfied: numpy in /usr/local/lib/python3.10/dist-packages (1.23.5)\n"
          ]
        }
      ]
    },
    {
      "cell_type": "code",
      "source": [
        "import numpy as np\n",
        "import pandas as pd\n",
        "from sklearn.linear_model import LinearRegression\n",
        "\n",
        "# 회귀 분석 결과 데이터 생성\n",
        "data = {\n",
        "    'names': ['Intercept', '환율'],\n",
        "    'coef': [423334.27, 91.08]\n",
        "}\n",
        "\n",
        "# 데이터를 DataFrame으로 변환\n",
        "df = pd.DataFrame(data)\n",
        "\n",
        "# 회귀 분석 결과에서 추정된 회귀 계수와 절편을 추출\n",
        "intercept = df.loc[df['names'] == 'Intercept', 'coef'].values[0]\n",
        "slope = df.loc[df['names'] == '환율', 'coef'].values[0]\n",
        "\n",
        "# 예측할 환율 값 설정\n",
        "new_exchange_rate = 1.2  # 예측할 환율 값\n",
        "\n",
        "# 회귀 모델을 사용하여 예측 수행\n",
        "predicted_value = intercept + slope * new_exchange_rate\n",
        "\n",
        "# 예측 결과 출력\n",
        "print(f\"예측 결과: {predicted_value:.2f}\")"
      ],
      "metadata": {
        "colab": {
          "base_uri": "https://localhost:8080/"
        },
        "id": "9LJlaUnFSmOE",
        "outputId": "58b3b9f9-d82b-4ffa-e438-766cbf4b1cb1"
      },
      "execution_count": 6,
      "outputs": [
        {
          "output_type": "stream",
          "name": "stdout",
          "text": [
            "예측 결과: 423443.57\n"
          ]
        }
      ]
    },
    {
      "cell_type": "markdown",
      "source": [
        "### 환율과 비교한 숙박비용의 월별 평균값 분포에 대한 회귀 분석를 이용한 예측 분석"
      ],
      "metadata": {
        "id": "l140eGa-S-sm"
      }
    },
    {
      "cell_type": "code",
      "source": [
        "import numpy as np\n",
        "import pandas as pd\n",
        "from sklearn.linear_model import LinearRegression\n",
        "\n",
        "# 회귀 분석 결과 데이터 생성\n",
        "data = {\n",
        "    'names': ['Intercept', '환율'],\n",
        "    'coef': [170943.88, -54.24]\n",
        "}\n",
        "\n",
        "# 데이터를 DataFrame으로 변환\n",
        "df = pd.DataFrame(data)\n",
        "\n",
        "# 회귀 분석 결과에서 추정된 회귀 계수와 절편을 추출\n",
        "intercept = df.loc[df['names'] == 'Intercept', 'coef'].values[0]\n",
        "slope = df.loc[df['names'] == '환율', 'coef'].values[0]\n",
        "\n",
        "# 예측할 환율 값 설정\n",
        "new_exchange_rate = 1.2  # 예측할 환율 값\n",
        "\n",
        "# 회귀 모델을 사용하여 예측 수행\n",
        "predicted_value = intercept + slope * new_exchange_rate\n",
        "\n",
        "# 예측 결과 출력\n",
        "print(f\"예측 결과: {predicted_value:.2f}\")"
      ],
      "metadata": {
        "colab": {
          "base_uri": "https://localhost:8080/"
        },
        "id": "8JXUMUGlTB6o",
        "outputId": "8331a697-612f-4fd5-8951-086db45cce79"
      },
      "execution_count": 3,
      "outputs": [
        {
          "output_type": "stream",
          "name": "stdout",
          "text": [
            "예측 결과: 170878.79\n"
          ]
        }
      ]
    },
    {
      "cell_type": "markdown",
      "source": [
        "### 환율과 비교한 식음료 비용의 월별 평균값 분포에 대한 회귀 분석을 이용한 예측 분석"
      ],
      "metadata": {
        "id": "pZcn1LB5TiBF"
      }
    },
    {
      "cell_type": "code",
      "source": [
        "# 회귀 분석 결과 데이터 생성\n",
        "data = {\n",
        "    'names': ['Intercept', '환율'],\n",
        "    'coef': [53575.70, 74.24]\n",
        "}\n",
        "\n",
        "# 데이터를 DataFrame으로 변환\n",
        "df = pd.DataFrame(data)\n",
        "\n",
        "# 회귀 분석 결과에서 추정된 회귀 계수와 절편을 추출\n",
        "intercept = df.loc[df['names'] == 'Intercept', 'coef'].values[0]\n",
        "slope = df.loc[df['names'] == '환율', 'coef'].values[0]\n",
        "\n",
        "# 예측할 환율 값 설정\n",
        "new_exchange_rate = 1.2  # 예측할 환율 값\n",
        "\n",
        "# 회귀 모델을 사용하여 예측 수행\n",
        "predicted_value = intercept + slope * new_exchange_rate\n",
        "\n",
        "# 예측 결과 출력\n",
        "print(f\"예측 결과: {predicted_value:.2f}\")"
      ],
      "metadata": {
        "colab": {
          "base_uri": "https://localhost:8080/"
        },
        "id": "USjnNdYsTwHj",
        "outputId": "f387c301-be08-47b2-bd71-c4aebd913a2e"
      },
      "execution_count": 4,
      "outputs": [
        {
          "output_type": "stream",
          "name": "stdout",
          "text": [
            "예측 결과: 53664.79\n"
          ]
        }
      ]
    },
    {
      "cell_type": "markdown",
      "source": [
        "### 환율과 비교한 항공/선박 이용 비용의 월별 평균값 분포에 대한 회귀 분석을 이용한 예측 분석"
      ],
      "metadata": {
        "id": "1f2KT9xKT70_"
      }
    },
    {
      "cell_type": "code",
      "source": [
        "# 회귀 분석 결과 데이터 생성\n",
        "data = {\n",
        "    'names': ['Intercept', '환율'],\n",
        "    'coef': [229059.17, -104.54]\n",
        "}\n",
        "\n",
        "# 데이터를 DataFrame으로 변환\n",
        "df = pd.DataFrame(data)\n",
        "\n",
        "# 회귀 분석 결과에서 추정된 회귀 계수와 절편을 추출\n",
        "intercept = df.loc[df['names'] == 'Intercept', 'coef'].values[0]\n",
        "slope = df.loc[df['names'] == '환율', 'coef'].values[0]\n",
        "\n",
        "# 예측할 환율 값 설정\n",
        "new_exchange_rate = 1.2  # 예측할 환율 값\n",
        "\n",
        "# 회귀 모델을 사용하여 예측 수행\n",
        "predicted_value = intercept + slope * new_exchange_rate\n",
        "\n",
        "# 예측 결과 출력\n",
        "print(f\"예측 결과: {predicted_value:.2f}\")"
      ],
      "metadata": {
        "colab": {
          "base_uri": "https://localhost:8080/"
        },
        "id": "4u0YJmMDUFME",
        "outputId": "bed55750-ee2b-42e8-814d-dca67cd1a115"
      },
      "execution_count": 5,
      "outputs": [
        {
          "output_type": "stream",
          "name": "stdout",
          "text": [
            "예측 결과: 228933.72\n"
          ]
        }
      ]
    },
    {
      "cell_type": "markdown",
      "source": [
        "### 환율과 비교한 관광, 문화 지출 비용의 월별 평균값 분포에 대한 회귀 분석을 이용한 예측 분석"
      ],
      "metadata": {
        "id": "0YW_IeG3Un1D"
      }
    },
    {
      "cell_type": "code",
      "source": [
        "# 회귀 분석 결과 데이터 생성\n",
        "data = {\n",
        "    'names': ['Intercept', '환율'],\n",
        "    'coef': [8256.37, 12.64]\n",
        "}\n",
        "\n",
        "# 데이터를 DataFrame으로 변환\n",
        "df = pd.DataFrame(data)\n",
        "\n",
        "# 회귀 분석 결과에서 추정된 회귀 계수와 절편을 추출\n",
        "intercept = df.loc[df['names'] == 'Intercept', 'coef'].values[0]\n",
        "slope = df.loc[df['names'] == '환율', 'coef'].values[0]\n",
        "\n",
        "# 예측할 환율 값 설정\n",
        "new_exchange_rate = 1.2  # 예측할 환율 값\n",
        "\n",
        "# 회귀 모델을 사용하여 예측 수행\n",
        "predicted_value = intercept + slope * new_exchange_rate\n",
        "\n",
        "# 예측 결과 출력\n",
        "print(f\"예측 결과: {predicted_value:.2f}\")"
      ],
      "metadata": {
        "colab": {
          "base_uri": "https://localhost:8080/"
        },
        "id": "CKnrbNwCUrOH",
        "outputId": "969b67c0-e7d8-4ef6-c54c-9184332e2396"
      },
      "execution_count": 7,
      "outputs": [
        {
          "output_type": "stream",
          "name": "stdout",
          "text": [
            "예측 결과: 8271.54\n"
          ]
        }
      ]
    },
    {
      "cell_type": "markdown",
      "source": [
        "## 전기세 부분 회귀 분석 및 예측\n",
        "\n"
      ],
      "metadata": {
        "id": "iMzIcI3QVOu-"
      }
    },
    {
      "cell_type": "markdown",
      "source": [
        "### 전기세와 비교한 전체 지출 비용의 월별 평균값 분포에 대한 회귀 분석을 이용한 예측 분석"
      ],
      "metadata": {
        "id": "_4x-t3VOU8J-"
      }
    },
    {
      "cell_type": "code",
      "source": [
        "# 회귀 분석 결과 데이터 생성\n",
        "data = {\n",
        "    'names': ['Intercept', '저압 전기요금'],\n",
        "    'coef': [496501.46, 374.82]\n",
        "}\n",
        "\n",
        "# 데이터를 DataFrame으로 변환\n",
        "df = pd.DataFrame(data)\n",
        "\n",
        "# 회귀 분석 결과에서 추정된 회귀 계수와 절편을 추출\n",
        "intercept = df.loc[df['names'] == 'Intercept', 'coef'].values[0]\n",
        "slope = df.loc[df['names'] == '저압 전기요금', 'coef'].values[0]\n",
        "\n",
        "# 예측할 저압 전기요금 값을 설정\n",
        "new_electricity_bill = 8000  # 예측할 저압 전기요금 값\n",
        "\n",
        "# 회귀 모델을 사용하여 예측 수행\n",
        "predicted_value = intercept + slope * new_electricity_bill\n",
        "\n",
        "# 예측 결과 출력\n",
        "print(f\"예측 결과: {predicted_value:.2f}\")"
      ],
      "metadata": {
        "colab": {
          "base_uri": "https://localhost:8080/"
        },
        "id": "2oGZsh7zVecO",
        "outputId": "02fc3bd6-b8ea-4e1d-f5f0-711ba618a8de"
      },
      "execution_count": 8,
      "outputs": [
        {
          "output_type": "stream",
          "name": "stdout",
          "text": [
            "예측 결과: 3495061.46\n"
          ]
        }
      ]
    },
    {
      "cell_type": "markdown",
      "source": [
        "### 전기세와 비교한 숙박비용의 월별 평균값 분포에 대한 회귀 분석을 이용한 예측 분석"
      ],
      "metadata": {
        "id": "DNds0j-bVm92"
      }
    },
    {
      "cell_type": "code",
      "source": [
        "# 회귀 분석 결과 데이터 생성\n",
        "data = {\n",
        "    'names': ['Intercept', '저압 전기요금'],\n",
        "    'coef': [105158.86, 44.08]\n",
        "}\n",
        "\n",
        "# 데이터를 DataFrame으로 변환\n",
        "df = pd.DataFrame(data)\n",
        "\n",
        "# 회귀 분석 결과에서 추정된 회귀 계수와 절편을 추출\n",
        "intercept = df.loc[df['names'] == 'Intercept', 'coef'].values[0]\n",
        "slope = df.loc[df['names'] == '저압 전기요금', 'coef'].values[0]\n",
        "\n",
        "# 예측할 저압 전기요금 값을 설정\n",
        "new_electricity_bill = 9000  # 예측할 저압 전기요금 값\n",
        "\n",
        "# 회귀 모델을 사용하여 예측 수행\n",
        "predicted_value = intercept + slope * new_electricity_bill\n",
        "\n",
        "# 예측 결과 출력\n",
        "print(f\"예측 결과: {predicted_value:.2f}\")"
      ],
      "metadata": {
        "colab": {
          "base_uri": "https://localhost:8080/"
        },
        "id": "2-Du4ZwNV1Kk",
        "outputId": "028b9f27-fa27-476a-a18c-b36dfcb014af"
      },
      "execution_count": 9,
      "outputs": [
        {
          "output_type": "stream",
          "name": "stdout",
          "text": [
            "예측 결과: 501878.86\n"
          ]
        }
      ]
    },
    {
      "cell_type": "markdown",
      "source": [
        "### 전기세와 비교한 식음료 비용의 월별 평균값 분포에 대한 회귀 분석를 이용한 예측 분석"
      ],
      "metadata": {
        "id": "RcoEgCjmV8v6"
      }
    },
    {
      "cell_type": "code",
      "source": [
        "# 회귀 분석 결과 데이터 생성\n",
        "data = {\n",
        "    'names': ['Intercept', '저압 전기요금'],\n",
        "    'coef': [133117.54, 65.93]\n",
        "}\n",
        "\n",
        "# 데이터를 DataFrame으로 변환\n",
        "df = pd.DataFrame(data)\n",
        "\n",
        "# 회귀 분석 결과에서 추정된 회귀 계수와 절편을 추출\n",
        "intercept = df.loc[df['names'] == 'Intercept', 'coef'].values[0]\n",
        "slope = df.loc[df['names'] == '저압 전기요금', 'coef'].values[0]\n",
        "\n",
        "# 예측할 저압 전기요금 값을 설정\n",
        "new_electricity_bill = 8000  # 예측할 저압 전기요금 값\n",
        "\n",
        "# 회귀 모델을 사용하여 예측 수행\n",
        "predicted_value = intercept + slope * new_electricity_bill\n",
        "\n",
        "# 예측 결과 출력\n",
        "print(f\"예측 결과: {predicted_value:.2f}\")"
      ],
      "metadata": {
        "colab": {
          "base_uri": "https://localhost:8080/"
        },
        "id": "pNJ4FhU1WFfg",
        "outputId": "68bed115-a705-4b97-8f05-3c4cf88428af"
      },
      "execution_count": 10,
      "outputs": [
        {
          "output_type": "stream",
          "name": "stdout",
          "text": [
            "예측 결과: 660557.54\n"
          ]
        }
      ]
    },
    {
      "cell_type": "markdown",
      "source": [
        "### 전기세와 비교한 항공/선박 이용 비용의 월별 평균값 분포에 대한 회귀 분석를 이용한 예측 분석"
      ],
      "metadata": {
        "id": "nDu9o57_WM35"
      }
    },
    {
      "cell_type": "code",
      "source": [
        "# 회귀 분석 결과 데이터 생성\n",
        "data = {\n",
        "    'names': ['Intercept', '저압 전기요금'],\n",
        "    'coef': [90157.63, 230.77]\n",
        "}\n",
        "\n",
        "# 데이터를 DataFrame으로 변환\n",
        "df = pd.DataFrame(data)\n",
        "\n",
        "# 회귀 분석 결과에서 추정된 회귀 계수와 절편을 추출\n",
        "intercept = df.loc[df['names'] == 'Intercept', 'coef'].values[0]\n",
        "slope = df.loc[df['names'] == '저압 전기요금', 'coef'].values[0]\n",
        "\n",
        "# 예측할 저압 전기요금 값을 설정\n",
        "new_electricity_bill = 8000  # 예측할 저압 전기요금 값\n",
        "\n",
        "# 회귀 모델을 사용하여 예측 수행\n",
        "predicted_value = intercept + slope * new_electricity_bill\n",
        "\n",
        "# 예측 결과 출력\n",
        "print(f\"예측 결과: {predicted_value:.2f}\")"
      ],
      "metadata": {
        "colab": {
          "base_uri": "https://localhost:8080/"
        },
        "id": "JvexQLqqWRWT",
        "outputId": "922b5309-95e5-4eaf-840a-d66ed1abc94d"
      },
      "execution_count": 11,
      "outputs": [
        {
          "output_type": "stream",
          "name": "stdout",
          "text": [
            "예측 결과: 1936317.63\n"
          ]
        }
      ]
    },
    {
      "cell_type": "markdown",
      "source": [
        "### 전기세와 비교한 관광, 문화 지출 비용의 월별 평균값 분포에 대한 회귀 분석을 이용한 예측 분석"
      ],
      "metadata": {
        "id": "RlU6kAjqWbZG"
      }
    },
    {
      "cell_type": "code",
      "source": [
        "# 회귀 분석 결과 데이터 생성\n",
        "data = {\n",
        "    'names': ['Intercept', '저압 전기요금'],\n",
        "    'coef': [22156.39, 6.88]\n",
        "}\n",
        "\n",
        "# 데이터를 DataFrame으로 변환\n",
        "df = pd.DataFrame(data)\n",
        "\n",
        "# 회귀 분석 결과에서 추정된 회귀 계수와 절편을 추출\n",
        "intercept = df.loc[df['names'] == 'Intercept', 'coef'].values[0]\n",
        "slope = df.loc[df['names'] == '저압 전기요금', 'coef'].values[0]\n",
        "\n",
        "# 예측할 저압 전기요금 값을 설정\n",
        "new_electricity_bill = 8000  # 예측할 저압 전기요금 값\n",
        "\n",
        "# 회귀 모델을 사용하여 예측 수행\n",
        "predicted_value = intercept + slope * new_electricity_bill\n",
        "\n",
        "# 예측 결과 출력\n",
        "print(f\"예측 결과: {predicted_value:.2f}\")"
      ],
      "metadata": {
        "colab": {
          "base_uri": "https://localhost:8080/"
        },
        "id": "aqwc0VLaWgqQ",
        "outputId": "872da64a-82fb-4167-ea56-02140fc17d96"
      },
      "execution_count": 12,
      "outputs": [
        {
          "output_type": "stream",
          "name": "stdout",
          "text": [
            "예측 결과: 77196.39\n"
          ]
        }
      ]
    },
    {
      "cell_type": "markdown",
      "source": [
        "## 유류할증료 부분 회귀 분석 및 예측"
      ],
      "metadata": {
        "id": "8YYkUuZWWn32"
      }
    },
    {
      "cell_type": "markdown",
      "source": [
        "### 유류할증료와 비교한 전체 지출 비용의 월별 평균값 분포에 대한 회귀 분석을 이용한 예측 분석"
      ],
      "metadata": {
        "id": "Oa0-v_HlWqzI"
      }
    },
    {
      "cell_type": "code",
      "source": [
        "# 회귀 분석 결과 데이터 생성\n",
        "data = {\n",
        "    'names': ['Intercept', '유류할증료'],\n",
        "    'coef': [564131.26, -10.01]\n",
        "}\n",
        "\n",
        "# 데이터를 DataFrame으로 변환\n",
        "df = pd.DataFrame(data)\n",
        "\n",
        "# 회귀 분석 결과에서 추정된 회귀 계수와 절편을 추출\n",
        "intercept = df.loc[df['names'] == 'Intercept', 'coef'].values[0]\n",
        "slope = df.loc[df['names'] == '유류할증료', 'coef'].values[0]\n",
        "\n",
        "# 예측할 유류할증료 값을 설정\n",
        "new_fuel_surcharge = 2.5  # 예측할 유류할증료 값\n",
        "\n",
        "# 회귀 모델을 사용하여 예측 수행\n",
        "predicted_value = intercept + slope * new_fuel_surcharge\n",
        "\n",
        "# 예측 결과 출력\n",
        "print(f\"예측 결과: {predicted_value:.2f}\")"
      ],
      "metadata": {
        "colab": {
          "base_uri": "https://localhost:8080/"
        },
        "id": "uHGNC77pXylj",
        "outputId": "c5358980-a561-4a62-ab9a-10d20d721d03"
      },
      "execution_count": 16,
      "outputs": [
        {
          "output_type": "stream",
          "name": "stdout",
          "text": [
            "예측 결과: 564106.23\n"
          ]
        }
      ]
    },
    {
      "cell_type": "markdown",
      "source": [
        "### 유류할증료와 비교한 숙박비용의 월별 평균값 분포에 대한 회귀 분석을 이용한 예측 분석\n"
      ],
      "metadata": {
        "id": "AYBBc5BMaChn"
      }
    },
    {
      "cell_type": "code",
      "source": [
        "# 회귀 분석 결과 데이터 생성\n",
        "data = {\n",
        "    'names': ['Intercept', '유류할증료'],\n",
        "    'coef': [126218.67, -4.77]\n",
        "}\n",
        "\n",
        "# 데이터를 DataFrame으로 변환\n",
        "df = pd.DataFrame(data)\n",
        "\n",
        "# 회귀 분석 결과에서 추정된 회귀 계수와 절편을 추출\n",
        "intercept = df.loc[df['names'] == 'Intercept', 'coef'].values[0]\n",
        "slope = df.loc[df['names'] == '유류할증료', 'coef'].values[0]\n",
        "\n",
        "# 예측할 유류할증료 값을 설정\n",
        "new_fuel_surcharge = 3.0  # 예측할 유류할증료 값\n",
        "\n",
        "# 회귀 모델을 사용하여 예측 수행\n",
        "predicted_value = intercept + slope * new_fuel_surcharge\n",
        "\n",
        "# 예측 결과 출력\n",
        "print(f\"예측 결과: {predicted_value:.2f}\")"
      ],
      "metadata": {
        "colab": {
          "base_uri": "https://localhost:8080/"
        },
        "id": "vPVD88ImaI9p",
        "outputId": "50e84406-644d-42e4-d6f9-f2e861110007"
      },
      "execution_count": 17,
      "outputs": [
        {
          "output_type": "stream",
          "name": "stdout",
          "text": [
            "예측 결과: 126204.36\n"
          ]
        }
      ]
    },
    {
      "cell_type": "markdown",
      "source": [
        "### 유류할증료와 비교한 식음료 비용의 월별 평균값 분포에 대한 회귀 분석을 이용한 예측 분석\n"
      ],
      "metadata": {
        "id": "99djjh_AaYMr"
      }
    },
    {
      "cell_type": "code",
      "source": [
        "# 회귀 분석 결과 데이터 생성\n",
        "data = {\n",
        "    'names': ['Intercept', '유류할증료'],\n",
        "    'coef': [145536.30, -1.90]\n",
        "}\n",
        "\n",
        "# 데이터를 DataFrame으로 변환\n",
        "df = pd.DataFrame(data)\n",
        "\n",
        "# 회귀 분석 결과에서 추정된 회귀 계수와 절편을 추출\n",
        "intercept = df.loc[df['names'] == 'Intercept', 'coef'].values[0]\n",
        "slope = df.loc[df['names'] == '유류할증료', 'coef'].values[0]\n",
        "\n",
        "# 예측할 유류할증료 값을 설정\n",
        "new_fuel_surcharge = 3.0  # 예측할 유류할증료 값\n",
        "\n",
        "# 회귀 모델을 사용하여 예측 수행\n",
        "predicted_value = intercept + slope * new_fuel_surcharge\n",
        "\n",
        "# 예측 결과 출력\n",
        "print(f\"예측 결과: {predicted_value:.2f}\")"
      ],
      "metadata": {
        "colab": {
          "base_uri": "https://localhost:8080/"
        },
        "id": "ksramjLbachQ",
        "outputId": "8546ebb4-722e-40cf-d2ce-c10e488b7a67"
      },
      "execution_count": 18,
      "outputs": [
        {
          "output_type": "stream",
          "name": "stdout",
          "text": [
            "예측 결과: 145530.60\n"
          ]
        }
      ]
    },
    {
      "cell_type": "markdown",
      "source": [
        "### 유류할증료와 비교한 항공/선박 이용 비용의 월별 평균값 분포에 대한 회귀 분석을 이용한 예측 분석"
      ],
      "metadata": {
        "id": "AsUPh8HEbbd_"
      }
    },
    {
      "cell_type": "code",
      "source": [
        "# 회귀 분석 결과 데이터 생성\n",
        "data = {\n",
        "    'names': ['Intercept', '유류할증료'],\n",
        "    'coef': [100730.08, 2.36]\n",
        "}\n",
        "\n",
        "# 데이터를 DataFrame으로 변환\n",
        "df = pd.DataFrame(data)\n",
        "\n",
        "# 회귀 분석 결과에서 추정된 회귀 계수와 절편을 추출\n",
        "intercept = df.loc[df['names'] == 'Intercept', 'coef'].values[0]\n",
        "slope = df.loc[df['names'] == '유류할증료', 'coef'].values[0]\n",
        "\n",
        "# 예측할 유류할증료 값을 설정\n",
        "new_fuel_surcharge = 3.0  # 예측할 유류할증료 값\n",
        "\n",
        "# 회귀 모델을 사용하여 예측 수행\n",
        "predicted_value = intercept + slope * new_fuel_surcharge\n",
        "\n",
        "# 예측 결과 출력\n",
        "print(f\"예측 결과: {predicted_value:.2f}\")"
      ],
      "metadata": {
        "colab": {
          "base_uri": "https://localhost:8080/"
        },
        "id": "Eg_mmG96bdLN",
        "outputId": "d59b0304-e0fb-4282-93b0-0372924ea808"
      },
      "execution_count": 19,
      "outputs": [
        {
          "output_type": "stream",
          "name": "stdout",
          "text": [
            "예측 결과: 100737.16\n"
          ]
        }
      ]
    },
    {
      "cell_type": "markdown",
      "source": [
        "### 유류할증료와 비교한 관광, 문화 지출 비용의 월별 평균값 분포에 대한 회귀 분석을 이용한 예측 분석"
      ],
      "metadata": {
        "id": "TqnAV_P9btrs"
      }
    },
    {
      "cell_type": "code",
      "source": [
        "# 회귀 분석 결과 데이터 생성\n",
        "data = {\n",
        "    'names': ['Intercept', '유류할증료'],\n",
        "    'coef': [22302.07, 0.12]\n",
        "}\n",
        "\n",
        "# 데이터를 DataFrame으로 변환\n",
        "df = pd.DataFrame(data)\n",
        "\n",
        "# 회귀 분석 결과에서 추정된 회귀 계수와 절편을 추출\n",
        "intercept = df.loc[df['names'] == 'Intercept', 'coef'].values[0]\n",
        "slope = df.loc[df['names'] == '유류할증료', 'coef'].values[0]\n",
        "\n",
        "# 예측할 유류할증료 값을 설정\n",
        "new_fuel_surcharge = 3.0  # 예측할 유류할증료 값\n",
        "\n",
        "# 회귀 모델을 사용하여 예측 수행\n",
        "predicted_value = intercept + slope * new_fuel_surcharge\n",
        "\n",
        "# 예측 결과 출력\n",
        "print(f\"예측 결과: {predicted_value:.2f}\")"
      ],
      "metadata": {
        "id": "V9p9UqTJbwWU"
      },
      "execution_count": null,
      "outputs": []
    },
    {
      "cell_type": "markdown",
      "source": [
        "## 최저시급 부분 회귀 분석 및 예측"
      ],
      "metadata": {
        "id": "KLVEcppQcC-m"
      }
    },
    {
      "cell_type": "markdown",
      "source": [
        "### 최저시급와 비교한 전체 지출 비용의 월별 평균값 분포에 대한 회귀 분석을 이용한 예측 분석"
      ],
      "metadata": {
        "id": "C0bNBFj8cI7k"
      }
    },
    {
      "cell_type": "code",
      "source": [
        "# 회귀 분석 결과 데이터 생성\n",
        "data = {\n",
        "    'names': ['Intercept', '최저시급'],\n",
        "    'coef': [71403.44, 54.99]\n",
        "}\n",
        "\n",
        "# 데이터를 DataFrame으로 변환\n",
        "df = pd.DataFrame(data)\n",
        "\n",
        "# 회귀 분석 결과에서 추정된 회귀 계수와 절편을 추출\n",
        "intercept = df.loc[df['names'] == 'Intercept', 'coef'].values[0]\n",
        "slope = df.loc[df['names'] == '최저시급', 'coef'].values[0]\n",
        "\n",
        "# 예측할 최저시급 값을 설정\n",
        "new_minimum_wage = 10.0  # 예측할 최저시급 값\n",
        "\n",
        "# 회귀 모델을 사용하여 예측 수행\n",
        "predicted_value = intercept + slope * new_minimum_wage\n",
        "\n",
        "# 예측 결과 출력\n",
        "print(f\"예측 결과: {predicted_value:.2f}\")"
      ],
      "metadata": {
        "id": "AX43mRLbfWLP"
      },
      "execution_count": null,
      "outputs": []
    },
    {
      "cell_type": "markdown",
      "source": [
        "### 최저시급과 비교한 숙박비용의 월별 평균값 분포에 대한 회귀 분석을 이용한 예측 분석"
      ],
      "metadata": {
        "id": "QKDHYBi_fWyv"
      }
    },
    {
      "cell_type": "code",
      "source": [
        "# 회귀 분석 결과 데이터 생성\n",
        "data = {\n",
        "    'names': ['Intercept', '최저시급'],\n",
        "    'coef': [-149780.62, 31.17]\n",
        "}\n",
        "\n",
        "# 데이터를 DataFrame으로 변환\n",
        "df = pd.DataFrame(data)\n",
        "\n",
        "# 회귀 분석 결과에서 추정된 회귀 계수와 절편을 추출\n",
        "intercept = df.loc[df['names'] == 'Intercept', 'coef'].values[0]\n",
        "slope = df.loc[df['names'] == '최저시급', 'coef'].values[0]\n",
        "\n",
        "# 예측할 최저시급 값을 설정\n",
        "new_minimum_wage = 10.0  # 예측할 최저시급 값\n",
        "\n",
        "# 회귀 모델을 사용하여 예측 수행\n",
        "predicted_value = intercept + slope * new_minimum_wage\n",
        "\n",
        "# 예측 결과 출력\n",
        "print(f\"예측 결과: {predicted_value:.2f}\")"
      ],
      "metadata": {
        "id": "ZZlrhz7zfdNl"
      },
      "execution_count": null,
      "outputs": []
    },
    {
      "cell_type": "markdown",
      "source": [
        "### 최저시급과 비교한 식음료 비용의 월별 평균값 분포에 대한 회귀 분석에 대한 예측 분석"
      ],
      "metadata": {
        "id": "LvkJO-Azfo2l"
      }
    },
    {
      "cell_type": "code",
      "source": [
        "# 회귀 분석 결과 데이터 생성\n",
        "data = {\n",
        "    'names': ['Intercept', '최저시급'],\n",
        "    'coef': [102014.13, 4.41]\n",
        "}\n",
        "\n",
        "# 데이터를 DataFrame으로 변환\n",
        "df = pd.DataFrame(data)\n",
        "\n",
        "# 회귀 분석 결과에서 추정된 회귀 계수와 절편을 추출\n",
        "intercept = df.loc[df['names'] == 'Intercept', 'coef'].values[0]\n",
        "slope = df.loc[df['names'] == '최저시급', 'coef'].values[0]\n",
        "\n",
        "# 예측할 최저시급 값을 설정\n",
        "new_minimum_wage = 10.0  # 예측할 최저시급 값\n",
        "\n",
        "# 회귀 모델을 사용하여 예측 수행\n",
        "predicted_value = intercept + slope * new_minimum_wage\n",
        "\n",
        "# 예측 결과 출력\n",
        "print(f\"예측 결과: {predicted_value:.2f}\")"
      ],
      "metadata": {
        "id": "rlbzakJlfuxG"
      },
      "execution_count": null,
      "outputs": []
    },
    {
      "cell_type": "markdown",
      "source": [
        "### 최저시급과 비교한 항공/선박 이용 비용의 월별 평균값 분포에 대한 회귀 분석을 이용한 예측 분석"
      ],
      "metadata": {
        "id": "hPr6DndTf2Qv"
      }
    },
    {
      "cell_type": "code",
      "source": [
        "# 회귀 분석 결과 데이터 생성\n",
        "data = {\n",
        "    'names': ['Intercept', '최저시급'],\n",
        "    'coef': [280107.77, -20.58]\n",
        "}\n",
        "\n",
        "# 데이터를 DataFrame으로 변환\n",
        "df = pd.DataFrame(data)\n",
        "\n",
        "# 회귀 분석 결과에서 추정된 회귀 계수와 절편을 추출\n",
        "intercept = df.loc[df['names'] == 'Intercept', 'coef'].values[0]\n",
        "slope = df.loc[df['names'] == '최저시급', 'coef'].values[0]\n",
        "\n",
        "# 예측할 최저시급 값을 설정\n",
        "new_minimum_wage = 10.0  # 예측할 최저시급 값\n",
        "\n",
        "# 회귀 모델을 사용하여 예측 수행\n",
        "predicted_value = intercept + slope * new_minimum_wage\n",
        "\n",
        "# 예측 결과 출력\n",
        "print(f\"예측 결과: {predicted_value:.2f}\")\n",
        "\n",
        "\n"
      ],
      "metadata": {
        "id": "rz2wMOWLf6oo"
      },
      "execution_count": null,
      "outputs": []
    },
    {
      "cell_type": "markdown",
      "source": [
        "### 최저시급과 비교한 관광, 문화 지출 비용의 월별 평균값 분포에 대한 회귀 분석을 이용한 예측 분석"
      ],
      "metadata": {
        "id": "2DgRGQFSgCAF"
      }
    },
    {
      "cell_type": "code",
      "source": [
        "# 회귀 분석 결과 데이터 생성\n",
        "data = {\n",
        "    'names': ['Intercept', '최저시급'],\n",
        "    'coef': [26573.15, -0.46]\n",
        "}\n",
        "\n",
        "# 데이터를 DataFrame으로 변환\n",
        "df = pd.DataFrame(data)\n",
        "\n",
        "# 회귀 분석 결과에서 추정된 회귀 계수와 절편을 추출\n",
        "intercept = df.loc[df['names'] == 'Intercept', 'coef'].values[0]\n",
        "slope = df.loc[df['names'] == '최저시급', 'coef'].values[0]\n",
        "\n",
        "# 예측할 최저시급 값을 설정\n",
        "new_minimum_wage = 10.0  # 예측할 최저시급 값\n",
        "\n",
        "# 회귀 모델을 사용하여 예측 수행\n",
        "predicted_value = intercept + slope * new_minimum_wage\n",
        "\n",
        "# 예측 결과 출력\n",
        "print(f\"예측 결과: {predicted_value:.2f}\")"
      ],
      "metadata": {
        "id": "6Hda5DcEgIuu"
      },
      "execution_count": null,
      "outputs": []
    },
    {
      "cell_type": "markdown",
      "source": [
        "## 공산품 부분 회귀 분석 및 예측"
      ],
      "metadata": {
        "id": "i3L2Fmd8gX36"
      }
    },
    {
      "cell_type": "markdown",
      "source": [
        "### 공산품 수출 지수와 비교한 전체 지출 비용의 월별 평균값 분포에 대한 회귀 분석을 이용한 예측 분석"
      ],
      "metadata": {
        "id": "NGkWvRjjgcg3"
      }
    },
    {
      "cell_type": "code",
      "source": [
        "# 회귀 분석 결과 데이터 생성\n",
        "data = {\n",
        "    'names': ['Intercept', '공산품 지수'],\n",
        "    'coef': [144790.85, 4002.12]\n",
        "}\n",
        "\n",
        "# 데이터를 DataFrame으로 변환\n",
        "df = pd.DataFrame(data)\n",
        "\n",
        "# 회귀 분석 결과에서 추정된 회귀 계수와 절편을 추출\n",
        "intercept = df.loc[df['names'] == 'Intercept', 'coef'].values[0]\n",
        "slope = df.loc[df['names'] == '공산품 지수', 'coef'].values[0]\n",
        "\n",
        "# 예측할 공산품 지수 값을 설정\n",
        "new_commodity_index = 500.0  # 예측할 공산품 지수 값\n",
        "\n",
        "# 회귀 모델을 사용하여 예측 수행\n",
        "predicted_value = intercept + slope * new_commodity_index\n",
        "\n",
        "# 예측 결과 출력\n",
        "print(f\"예측 결과: {predicted_value:.2f}\")"
      ],
      "metadata": {
        "id": "Oufri08ggrZi"
      },
      "execution_count": null,
      "outputs": []
    },
    {
      "cell_type": "markdown",
      "source": [
        "### 공산품 수출 지수와 비교한 숙박비용의 월별 평균값 분포에 대한 회귀 분석을 이용한 회귀 분석"
      ],
      "metadata": {
        "id": "NhTrl59pgyi5"
      }
    },
    {
      "cell_type": "code",
      "source": [
        "# 회귀 분석 결과 데이터 생성\n",
        "data = {\n",
        "    'names': ['Intercept', '공산품 지수'],\n",
        "    'coef': [-83250.14, 2007.77]\n",
        "}\n",
        "\n",
        "# 데이터를 DataFrame으로 변환\n",
        "df = pd.DataFrame(data)\n",
        "\n",
        "# 회귀 분석 결과에서 추정된 회귀 계수와 절편을 추출\n",
        "intercept = df.loc[df['names'] == 'Intercept', 'coef'].values[0]\n",
        "slope = df.loc[df['names'] == '공산품 지수', 'coef'].values[0]\n",
        "\n",
        "# 예측할 공산품 지수 값을 설정\n",
        "new_commodity_index = 600.0  # 예측할 공산품 지수 값\n",
        "\n",
        "# 회귀 모델을 사용하여 예측 수행\n",
        "predicted_value = intercept + slope * new_commodity_index\n",
        "\n",
        "# 예측 결과 출력\n",
        "print(f\"예측 결과: {predicted_value:.2f}\")"
      ],
      "metadata": {
        "id": "CtBUyajvg3a_"
      },
      "execution_count": null,
      "outputs": []
    },
    {
      "cell_type": "markdown",
      "source": [
        "### 공산품 수출 지수와 비교한 식음료 비용의 월별 평균값 분포에 대한 회귀 분석을 이용한 예측 분석"
      ],
      "metadata": {
        "id": "nmTtYenMhFxL"
      }
    },
    {
      "cell_type": "code",
      "source": [
        "# 회귀 분석 결과 데이터 생성\n",
        "data = {\n",
        "    'names': ['Intercept', '공산품 지수'],\n",
        "    'coef': [116997.08, 225.79]\n",
        "}\n",
        "\n",
        "# 데이터를 DataFrame으로 변환\n",
        "df = pd.DataFrame(data)\n",
        "\n",
        "# 회귀 분석 결과에서 추정된 회귀 계수와 절편을 추출\n",
        "intercept = df.loc[df['names'] == 'Intercept', 'coef'].values[0]\n",
        "slope = df.loc[df['names'] == '공산품 지수', 'coef'].values[0]\n",
        "\n",
        "# 예측할 공산품 지수 값을 설정\n",
        "new_commodity_index = 700.0  # 예측할 공산품 지수 값\n",
        "\n",
        "# 회귀 모델을 사용하여 예측 수행\n",
        "predicted_value = intercept + slope * new_commodity_index\n",
        "\n",
        "# 예측 결과 출력\n",
        "print(f\"예측 결과: {predicted_value:.2f}\")"
      ],
      "metadata": {
        "id": "qtytbzgMhUXj"
      },
      "execution_count": null,
      "outputs": []
    },
    {
      "cell_type": "markdown",
      "source": [
        "### 공산품 수출 지수와 비교한 항공/선박 이용 비용의 월별 평균값 분포에 대한 회귀 분석을 이용한 예측 분석"
      ],
      "metadata": {
        "id": "HEP9c05hhW46"
      }
    },
    {
      "cell_type": "code",
      "source": [
        "# 회귀 분석 결과 데이터 생성\n",
        "data = {\n",
        "    'names': ['Intercept', '공산품 지수'],\n",
        "    'coef': [143732.84, -359.55]\n",
        "}\n",
        "\n",
        "# 데이터를 DataFrame으로 변환\n",
        "df = pd.DataFrame(data)\n",
        "\n",
        "# 회귀 분석 결과에서 추정된 회귀 계수와 절편을 추출\n",
        "intercept = df.loc[df['names'] == 'Intercept', 'coef'].values[0]\n",
        "slope = df.loc[df['names'] == '공산품 지수', 'coef'].values[0]\n",
        "\n",
        "# 예측할 공산품 지수 값을 설정\n",
        "new_commodity_index = 800.0  # 예측할 공산품 지수 값\n",
        "\n",
        "# 회귀 모델을 사용하여 예측 수행\n",
        "predicted_value = intercept + slope * new_commodity_index\n",
        "\n",
        "# 예측 결과 출력\n",
        "print(f\"예측 결과: {predicted_value:.2f}\")"
      ],
      "metadata": {
        "id": "ML72Ecz5hg0e"
      },
      "execution_count": null,
      "outputs": []
    },
    {
      "cell_type": "markdown",
      "source": [
        "### 공산품 수출 지수와 비교한 관광, 문화 지출 비용의 월별 평균값 분포에 대한 회귀 분석을 이용한 예측 분석"
      ],
      "metadata": {
        "id": "nj1Znw2Bhija"
      }
    },
    {
      "cell_type": "code",
      "source": [
        "# 회귀 분석 결과 데이터 생성\n",
        "data = {\n",
        "    'names': ['Intercept', '공산품 지수'],\n",
        "    'coef': [18834.83, 40.70]\n",
        "}\n",
        "\n",
        "# 데이터를 DataFrame으로 변환\n",
        "df = pd.DataFrame(data)\n",
        "\n",
        "# 회귀 분석 결과에서 추정된 회귀 계수와 절편을 추출\n",
        "intercept = df.loc[df['names'] == 'Intercept', 'coef'].values[0]\n",
        "slope = df.loc[df['names'] == '공산품 지수', 'coef'].values[0]\n",
        "\n",
        "# 예측할 공산품 지수 값을 설정\n",
        "new_commodity_index = 90.0  # 예측할 공산품 지수 값\n",
        "\n",
        "# 회귀 모델을 사용하여 예측 수행\n",
        "predicted_value = intercept + slope * new_commodity_index\n",
        "\n",
        "# 예측 결과 출력\n",
        "print(f\"예측 결과: {predicted_value:.2f}\")"
      ],
      "metadata": {
        "colab": {
          "base_uri": "https://localhost:8080/"
        },
        "id": "A9tSOOL4hlNB",
        "outputId": "eae51272-8c61-45b3-b6cc-8c1aa67aaa47"
      },
      "execution_count": 21,
      "outputs": [
        {
          "output_type": "stream",
          "name": "stdout",
          "text": [
            "예측 결과: 22497.83\n"
          ]
        }
      ]
    }
  ]
}
